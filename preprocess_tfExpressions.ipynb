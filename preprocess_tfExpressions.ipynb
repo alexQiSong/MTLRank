{
 "cells": [
  {
   "cell_type": "code",
   "execution_count": 1,
   "metadata": {},
   "outputs": [],
   "source": [
    "import pandas as pd\n",
    "import numpy as np\n",
    "import os\n",
    "import h5py\n",
    "import anndata\n",
    "\n",
    "from collections import defaultdict\n",
    "from joblib import Parallel, delayed"
   ]
  },
  {
   "cell_type": "markdown",
   "metadata": {},
   "source": [
    "**step1. Load genome annotation file (for getting gene length information to compute rpkm)**"
   ]
  },
  {
   "cell_type": "code",
   "execution_count": 2,
   "metadata": {},
   "outputs": [],
   "source": [
    "anno = pd.read_csv(\"data/raw/annotation/gencode.v32.annotation.gtf\",\n",
    "                   sep=\"\\t\",\n",
    "                   comment = \"#\",\n",
    "                  header = None)\n",
    "anno = anno.loc[anno[2] == \"gene\"]\n",
    "anno = pd.DataFrame(\n",
    "    {\n",
    "        'gene_ensembl':anno[8].str.extract(\"gene_id \\\"([^\\.]+)\\.\")[0].values,\n",
    "        'gene_length':(anno[4] - anno[3]).values\n",
    "    }\n",
    ")\n",
    "anno.index = anno[\"gene_ensembl\"]\n",
    "anno = anno.drop_duplicates()"
   ]
  },
  {
   "cell_type": "markdown",
   "metadata": {},
   "source": [
    "This cell shows sample IDs for scRNA-seq data. Download the datasets with the corresponding IDs from the HuBMap data portal: https://portal.hubmapconsortium.org/. Alternatively, you may perfrom batch download using commandline tool as described in https://software.docs.hubmapconsortium.org/clt/index.html. This script assumes you have downloaded the data into the folder **data/raw/rna/** and the subfolders in it were all named by sample ID. For example, for a sample with the ID \"0eb5e457b4855ce28531bc97147196b6\", its expression matrix (secondary_analysis.h5ad) and velocity matrix (scvelo_annotated.h5ad) can be found inside data/raw/rna/0eb5e457b4855ce28531bc97147196b6/."
   ]
  },
  {
   "cell_type": "code",
   "execution_count": 8,
   "metadata": {},
   "outputs": [
    {
     "name": "stdout",
     "output_type": "stream",
     "text": [
      "Liver\n",
      "Liver, 0eb5e457b4855ce28531bc97147196b6\n",
      "Liver, 37acb2625dbd65733a8d95069ec00f95\n",
      "Liver, 7277b2460f9c548004496508684a90ef\n",
      "Liver, 43c43f3fd7fbe61b9d8fed131d956101\n",
      "Liver, 40f7670890ae22c74ba4cf95a3ed6c6b\n",
      "Heart\n",
      "Heart, d6ec9ff2219e8cb74e807ded7e35c25e\n",
      "Heart, d4e85897ce6037c09b7d3a4de9a7205a\n",
      "Heart, b513c806bf3ee0d43d7ee6080d49913d\n",
      "Heart, f6b6f4b613ef675eae82e9a00684228a\n",
      "Heart, 600325157b07f4ec34ab98bcec1f1867\n",
      "Heart, 61407ec0b68d82c1f05861501ffefe9a\n",
      "Heart, ae8847ddd48cd1d9c96dc1e6f6c259d1\n",
      "Heart, c75ed9c6ddceb575abdcdb35d1d1515b\n",
      "Heart, 0bb7731a301114bf2d9336d4979ed31f\n",
      "Heart, e39662494e4dc66a3decc52e412b6552\n",
      "Heart, 3c97dbd44ba989c41c29cd2687311366\n",
      "Heart, 59cbc103a6ab0e9d55a8b4b47e3e25b0\n",
      "Heart, 92436cee1b8037a1b191a01546c3802c\n",
      "Heart, d3a399c31a0f9d8bad4294691d2c8f35\n",
      "Kidney (Left)\n",
      "Kidney (Left), 9fe24e50c8b8b77d86900ee4beecef69\n",
      "Kidney (Left), 7646a8a89555a123a56446b66c183d58\n",
      "Kidney (Left), 0d1eb3d774a694b79e844987f771b183\n",
      "Kidney (Left), 6cd63d0ee2c67c3be41e4be1522d9c07\n",
      "Kidney (Left), 7017034c816444f6acb469834e53344f\n",
      "Kidney (Left), 853ab5348f619043ab2f997ac8ae14f0\n",
      "Kidney (Left), e65175561b4b17da5352e3837aa0e497\n",
      "Kidney (Left), c05a38c5210b870281b5aea01e290339\n",
      "Kidney (Left), 92248f72d47b916a2027085ec1b8e996\n",
      "Kidney (Left), 35f5b75a7e3d0711f16b0a10219586fb\n",
      "Kidney (Left), 42ab155ddff1d33fe1c505c067828614\n",
      "Kidney (Left), be103f95cc6c1a3e48f099d1bd149a49\n",
      "Kidney (Left), 1197c73d127193dd493ff542890a3d3d\n",
      "Kidney (Left), e375a44f5cf5457c8f9b1132574c2436\n",
      "Kidney (Left), 434fbc55d458dc4e06da9ba4961f3840\n",
      "Large Intestine\n",
      "Large Intestine, 846e56ed969922f1cb7a81619b175620\n",
      "Large Intestine, 91822c7d75c54ce838bcd4d77f076b25\n",
      "Large Intestine, 04968c1fe0149ee367b0e53af55763e4\n",
      "Large Intestine, ba3081716f3fa98a1670b0864c5115ff\n",
      "Large Intestine, f2647d9533956fdb12da6b1fc6254441\n",
      "Large Intestine, 71477f504b0069828a368009fa3ab1ad\n",
      "Spleen\n",
      "Spleen, 8e2806ca447695e674889dba28506d38\n",
      "Spleen, f71249f6e349fb9a99a3d4f08541cab4\n",
      "Spleen, 29a538c3ddb396dee26188ae1151da46\n",
      "Spleen, 319aafd9420a0c1c6f175d6a2ef060a9\n",
      "Spleen, d48b7990d638dbede870ae9c1976e475\n",
      "Spleen, 046251c94ea0e79ee935dd3de57e093c\n",
      "Spleen, d9780d3f4eb9edfe275abaa32ff8633b\n",
      "Spleen, f412e76986c1012ea9589d545ed8f043\n",
      "Spleen, 7b99b447ffc977a3f6f890d32c7238b3\n",
      "Spleen, 391061b538480d6d630bdfec283c0293\n",
      "Lung (Right)\n",
      "Lung (Right), 5d111a1db2f18d507d23e79b993e1e4a\n",
      "Lung (Right), 4b16c24a3997ea8754921b0f1d60bc4d\n",
      "Lung (Right), 9aed52d22e30b893045fd1f79b3663fb\n",
      "Lung (Right), 79f087ae551dd72997f174646bb0d5e0\n",
      "Lung (Right), faa1acc13943ee9d365b6cc6a3ea889f\n",
      "Lung (Right), f9848244883f6c70972acef16680431a\n",
      "Lung (Right), 53fe8a84564b313d4e8ee90f337129dc\n",
      "Lung (Right), b340bb5715f967aa74d1b8eaeec0d475\n",
      "Lung (Right), ed630484e46ea49b319c0e1f92140059\n"
     ]
    }
   ],
   "source": [
    "import pdb\n",
    "rootdir = \"data/raw/rna/\"\n",
    "\n",
    "# Velocity matrix\n",
    "v_mat = defaultdict(list)\n",
    "\n",
    "# Expression matrix\n",
    "e_mat = defaultdict(list)\n",
    "\n",
    "# Iterate over tissues\n",
    "for tissue in [\"Liver\",\"Heart\",\"Kidney (Left)\",\"Large Intestine\",\"Spleen\",\"Lung (Right)\"]:\n",
    "    if os.path.isdir(rootdir + tissue):\n",
    "        print(tissue)\n",
    "        for Dir in os.listdir(rootdir + tissue):\n",
    "            velo_path = \"/\".join([rootdir,tissue,Dir,\"scvelo_annotated.h5ad\"])\n",
    "            expr_path = \"/\".join([rootdir,tissue,Dir,\"secondary_analysis.h5ad\"])\n",
    "            if os.path.exists(velo_path):\n",
    "                print(\"{}, {}\".format(tissue, Dir))"
   ]
  },
  {
   "cell_type": "markdown",
   "metadata": {},
   "source": [
    "**step2. Read velocity and expressions. Compute RPKMs from expressions**"
   ]
  },
  {
   "cell_type": "code",
   "execution_count": null,
   "metadata": {},
   "outputs": [],
   "source": [
    "import pdb\n",
    "rootdir = \"data/raw/rna/\"\n",
    "\n",
    "# Velocity matrix\n",
    "v_mat = defaultdict(list)\n",
    "\n",
    "# Expression matrix\n",
    "e_mat = defaultdict(list)\n",
    "\n",
    "# Iterate over tissues\n",
    "for tissue in os.listdir(rootdir):\n",
    "    print(tissue)\n",
    "    if os.path.isdir(rootdir + tissue):\n",
    "        for Dir in os.listdir(rootdir + tissue):\n",
    "            velo_path = \"/\".join([rootdir,tissue,Dir,\"scvelo_annotated.h5ad\"])\n",
    "            expr_path = \"/\".join([rootdir,tissue,Dir,\"secondary_analysis.h5ad\"])\n",
    "            if os.path.exists(velo_path):\n",
    "                v = anndata.read_h5ad(velo_path)\n",
    "                expr = anndata.read_h5ad(expr_path)\n",
    "                res = np.ravel(expr.layers['spliced'].todense().sum(axis = 1))\n",
    "                        \n",
    "                cells = v.obs.index.intersection(expr.obs.index).values\n",
    "                \n",
    "                # Get gene ids used for velocities\n",
    "                v_genes = v.var.index[v.var[\"velocity_genes\"] == True].values \n",
    "                v_genes = [gene.split('.')[0] for gene in v_genes] # Strip of the '.XX' for ensmebl ids\n",
    "                \n",
    "                # Filter gene ids used for expressions. Keep only the genes that have length info available\n",
    "                expr.var.index = pd.Index([gene.split('.')[0] for gene in expr.var.index]) # Strip of the '.XX' for ensmebl ids\n",
    "                \n",
    "                select = expr.var.index.isin(anno.index)\n",
    "                rpkm_expr = expr.layers['spliced'][:,select]\n",
    "                e_genes = expr.var.index[select]\n",
    "                \n",
    "                # normalize expression data to rpkm values\n",
    "                lib_size = rpkm_expr.sum(axis = 1)\n",
    "                gene_length = anno.loc[e_genes,][\"gene_length\"].values.reshape(1,-1)\n",
    "                rpkm_expr = (rpkm_expr * 1000000 * 1000) / (lib_size * gene_length) \n",
    "                \n",
    "                # For expression matrix, keep overlapping cells in both matrices\n",
    "                # For velocity matrix, keep velocity genes and overlapping cells in both matrices \n",
    "                v_select = v.layers['velocity'][v.obs.index.isin(cells),:][:,v.var[\"velocity_genes\"] == True]\n",
    "                e_select = rpkm_expr[expr.obs.index.isin(cells),:]\n",
    "                \n",
    "                \n",
    "                v_mat[tissue].append(pd.DataFrame(v_select,\n",
    "                                                index = cells,\n",
    "                                                columns = v_genes\n",
    "                                                )\n",
    "                                    )\n",
    "                \n",
    "                e_mat[tissue].append(pd.DataFrame(e_select,\n",
    "                                                index = cells,\n",
    "                                                columns = e_genes\n",
    "                                                )\n",
    "                                    )\n",
    "    if tissue in v_mat:\n",
    "        v_mat[tissue] = pd.concat(v_mat[tissue])\n",
    "        e_mat[tissue] = pd.concat(e_mat[tissue], join = 'inner')"
   ]
  },
  {
   "cell_type": "markdown",
   "metadata": {},
   "source": [
    "**step3. Save velocity and RPKM matrices**"
   ]
  },
  {
   "cell_type": "code",
   "execution_count": 14,
   "metadata": {},
   "outputs": [],
   "source": [
    "import re\n",
    "with h5py.File(\"data/processed/rpkm/rpkm.hdf5\", \"w\") as f:\n",
    "    for tissue,mat in e_mat.items():\n",
    "        t_name = re.sub(\" \",\"_\",tissue)\n",
    "        t_name = re.sub(\"\\(\",\"\",t_name)\n",
    "        t_name = re.sub(\"\\)\",\"\",t_name)\n",
    "        f.create_dataset(\"{}/exp\".format(t_name), data = mat.values)\n",
    "        f.create_dataset(\"{}/symbol\".format(t_name), data = ensembl_to_symbol.loc[mat.columns,][\"gene_symbol\"].values.astype('S'))\n",
    "        f.create_dataset(\"{}/ensembl\".format(t_name), data = mat.columns.values.astype('S'))\n",
    "        f.create_dataset(\"{}/barcode\".format(t_name), data = mat.index.values.astype('S'))"
   ]
  },
  {
   "cell_type": "code",
   "execution_count": 15,
   "metadata": {},
   "outputs": [],
   "source": [
    "with h5py.File(\"data/processed/velo/velo.hdf5\", \"w\") as f:\n",
    "    for tissue,mat in v_mat.items():\n",
    "        t_name = re.sub(\" \",\"_\",tissue)\n",
    "        t_name = re.sub(\"\\(\",\"\",t_name)\n",
    "        t_name = re.sub(\"\\)\",\"\",t_name)\n",
    "        \n",
    "        f.create_dataset(\"{}/velo\".format(t_name), data = mat.values)\n",
    "        f.create_dataset(\"{}/symbol\".format(t_name), data = ensembl_to_symbol.loc[mat.columns,][\"gene_symbol\"].values.astype('S'))\n",
    "        f.create_dataset(\"{}/ensembl\".format(t_name), data = mat.columns.values.astype('S'))\n",
    "        f.create_dataset(\"{}/barcode\".format(t_name), data = mat.index.values.astype('S'))"
   ]
  }
 ],
 "metadata": {
  "kernelspec": {
   "display_name": "Python 3",
   "language": "python",
   "name": "python3"
  },
  "language_info": {
   "codemirror_mode": {
    "name": "ipython",
    "version": 3
   },
   "file_extension": ".py",
   "mimetype": "text/x-python",
   "name": "python",
   "nbconvert_exporter": "python",
   "pygments_lexer": "ipython3",
   "version": "3.8.5"
  }
 },
 "nbformat": 4,
 "nbformat_minor": 5
}
