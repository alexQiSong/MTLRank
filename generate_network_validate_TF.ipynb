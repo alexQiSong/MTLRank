{
 "cells": [
  {
   "cell_type": "markdown",
   "metadata": {},
   "source": [
    "Read ranking results"
   ]
  },
  {
   "cell_type": "code",
   "execution_count": 2,
   "metadata": {},
   "outputs": [],
   "source": [
    "import pandas as pd\n",
    "import numpy as np\n",
    "\n",
    "shap_velo = dict()\n",
    "shap_exp = dict()\n",
    "interaction_weights = dict()\n",
    "\n",
    "for tissue in [\"Liver\",\"Heart\",\"Spleen\",\"Kidney_Left\",\"Large_Intestine\",\"Lung_Right\"]:\n",
    "    shap_velo[tissue] = pd.read_csv(\"results/shap/shap-val-{}.csv\".format(tissue), header = None)\n",
    "    shap_velo[tissue].columns = [\"target\",\"tf\",\"score\",\"rep\"]\n",
    "    \n",
    "    # compute normalized shap values\n",
    "    dfs = []\n",
    "    for (target,rep),df in shap_velo[tissue].groupby([\"target\",\"rep\"]):\n",
    "        df[\"score\"] = df[\"score\"]/df[\"score\"].sum() * 100\n",
    "        dfs.append(df)\n",
    "    shap_velo[tissue] = pd.concat(dfs)\n",
    "    \n",
    "    # compute mean of normalize shap values across different runs\n",
    "    df = shap_velo[tissue].groupby([\"tf\",\"target\"])[\"score\"].mean()\n",
    "    interaction_weights[tissue] = pd.DataFrame({\"tf\":df.index.droplevel(1),\n",
    "                                               \"target\":df.index.droplevel(0),\n",
    "                                               \"weight\":df.values\n",
    "                                               })"
   ]
  },
  {
   "cell_type": "markdown",
   "metadata": {},
   "source": [
    "Read the list of all tf ensembl ids"
   ]
  },
  {
   "cell_type": "code",
   "execution_count": 3,
   "metadata": {},
   "outputs": [],
   "source": [
    "tf_universe = pd.read_csv(\"data/raw/tf/tf_list.csv\")[\"Ensembl ID\"].values"
   ]
  },
  {
   "cell_type": "markdown",
   "metadata": {},
   "source": [
    "Read ensmebl to gene name mapping"
   ]
  },
  {
   "cell_type": "code",
   "execution_count": 4,
   "metadata": {},
   "outputs": [],
   "source": [
    "ensembl_to_symbol = pd.read_csv(\"data/raw/id_mapping/ensembl_to_symbol.csv\", index_col = 0)\n",
    "ensembl_to_symbol = ensembl_to_symbol.loc[~ensembl_to_symbol[\"ensembl_id\"].duplicated(),:]"
   ]
  },
  {
   "cell_type": "markdown",
   "metadata": {},
   "source": [
    "Read validation data downloaded from TF marker database"
   ]
  },
  {
   "cell_type": "code",
   "execution_count": 45,
   "metadata": {},
   "outputs": [
    {
     "name": "stdout",
     "output_type": "stream",
     "text": [
      "Liver has 48 tissue-specific marker TFs\n",
      "Heart has 33 tissue-specific marker TFs\n",
      "Kidney_Left has 59 tissue-specific marker TFs\n",
      "Large_Intestine has 17 tissue-specific marker TFs\n",
      "Lung_Right has 95 tissue-specific marker TFs\n"
     ]
    }
   ],
   "source": [
    "import pdb\n",
    "from functools import reduce\n",
    "\n",
    "tf_marker = pd.read_csv(\"data/processed/tfMarker/tfMarker_ensmebl.csv\")\n",
    "tissue_marker_genes = dict()\n",
    "tissue_interactions = dict()\n",
    "tf_marker.loc[tf_marker[\"tissue\"] == \"Kidney\",\"tissue\"] = \"Kidney_Left\"\n",
    "tf_marker.loc[tf_marker[\"tissue\"] == \"Intestine\",\"tissue\"] = \"Large_Intestine\"\n",
    "tf_marker.loc[tf_marker[\"tissue\"] == \"Lung\",\"tissue\"] = \"Lung_Right\"\n",
    "\n",
    "# Keep only genes for the tested tissues\n",
    "for tissue in [\"Liver\",\"Heart\",\"Kidney_Left\",\"Large_Intestine\",\"Lung_Right\"]:\n",
    "    \n",
    "    df = tf_marker.loc[tf_marker[\"tissue\"] == tissue,]\n",
    "        \n",
    "    # Total TFs to be recovered for each tissue\n",
    "    genes = reduce( \n",
    "                     np.intersect1d,\n",
    "                     [np.unique(np.hstack([df[\"source_ensembl\"].values,df[\"target_ensembl\"].values])),\n",
    "                      np.unique(shap_velo[tissue][\"tf\"].values),\n",
    "                      tf_universe\n",
    "                     ]\n",
    "    )\n",
    "    PMID = [tf_marker.loc[(tf_marker[\"tissue\"] == tissue) & (tf_marker[\"source_ensembl\"] == gene),\"PMID\"] for gene in genes]\n",
    "    PMID = [\";\".join(pd.astype(str).unique()) for pd in PMID]\n",
    "    tissue_marker_genes[tissue] = pd.DataFrame({\"gene\":genes, \"PMID\":PMID})\n",
    "    \n",
    "    # Count recoverable TF markers in each tissue\n",
    "    print(\"{} has {} tissue-specific marker TFs\".format(tissue,\n",
    "                                                         tissue_marker_genes[tissue].shape[0]))"
   ]
  },
  {
   "cell_type": "markdown",
   "metadata": {},
   "source": [
    "Get recall rate for each tissue and construct tissue-specific networks"
   ]
  },
  {
   "cell_type": "code",
   "execution_count": 20,
   "metadata": {},
   "outputs": [],
   "source": [
    "from functools import reduce\n",
    "def get_recall(df, tissue):\n",
    "    \n",
    "    # Get top 50 tf for each gene. Keep only the common tfs among the five reps\n",
    "    el = []\n",
    "    n_reps = 5\n",
    "    for target,dff in df.groupby(\"target\"):\n",
    "        tfs = reduce(np.intersect1d, [dff.loc[dff[\"rep\"] == rep,].iloc[:50,][\"tf\"] for rep in range(n_reps)])\n",
    "        el.append(pd.DataFrame({'target':target, 'tf':tfs}))\n",
    "    el = pd.concat(el)\n",
    "    \n",
    "    # Count the degree of each tf.\n",
    "    tf_list = el[\"tf\"].unique()\n",
    "    \n",
    "    counts = pd.DataFrame({\"tf\":tf_list,\n",
    "                           \"target_counts\":np.zeros(tf_list.shape[0], dtype = np.int32)})\n",
    "    for tf,df in el.groupby(\"tf\"):\n",
    "        counts.loc[counts[\"tf\"] == tf,\"target_counts\"] = int(df.shape[0])\n",
    "\n",
    "    # Rank tfs by degree counts\n",
    "    counts = counts.sort_values(by = \"target_counts\", ascending = False)\n",
    "    \n",
    "    # Recall rate\n",
    "    if tissue != \"Spleen\":\n",
    "        recalled_tfs = np.intersect1d(tf_list, tissue_marker_genes[tissue][\"gene\"].values)\n",
    "        num = recalled_tfs.shape[0]\n",
    "        el[\"tf_is_marker\"] = el[\"tf\"].isin(recalled_tfs)\n",
    "        return(el, recalled_tfs, num, tissue_marker_genes[tissue].shape[0], num/tissue_marker_genes[tissue].shape[0])\n",
    "    else:\n",
    "        num = 0\n",
    "        el[\"tf_is_marker\"] = \"NA\"\n",
    "        return(el, np.array([]), 0, 0, 0)\n",
    "    \n",
    "\n",
    "rate_velo = pd.DataFrame(\n",
    "    {\n",
    "        'tissue':[\"Liver\",\"Heart\",\"Spleen\",\"Kidney_Left\",\"Large_Intestine\",\"Lung_Right\"],\n",
    "        'recalled_num':[0,0,0,0,0,0],\n",
    "        'total_num':[0,0,0,0,0,0],\n",
    "        'rate':[0,0,0,0,0,0]\n",
    "    }\n",
    ")\n",
    "\n",
    "tissue_networks = dict()\n",
    "tissue_recalled_tfs = dict()\n",
    "for tissue in [\"Liver\",\"Heart\",\"Spleen\",\"Kidney_Left\",\"Large_Intestine\",\"Lung_Right\"]:\n",
    "    \n",
    "    el,recalled_tfs, recalled_num, total_num, rate = get_recall(shap_velo[tissue], tissue = tissue)\n",
    "    rate_velo.loc[rate_velo[\"tissue\"] == tissue, 'recalled_num'] = recalled_num \n",
    "    rate_velo.loc[rate_velo[\"tissue\"] == tissue, 'total_num'] = total_num\n",
    "    rate_velo.loc[rate_velo[\"tissue\"] == tissue, 'rate'] = rate\n",
    "    tissue_recalled_tfs[tissue] = recalled_tfs\n",
    "    \n",
    "    # Map ensmebl ids to gene names\n",
    "    tf_symbol = el.loc[:,[\"tf\",\"target\"]].merge(\n",
    "                                ensembl_to_symbol,\n",
    "                                how = \"left\",\n",
    "                                left_on = \"tf\",\n",
    "                                right_on = \"ensembl_id\",\n",
    "                               )[\"gene_symbol\"]\n",
    "\n",
    "    target_symbol = el.loc[:,[\"tf\",\"target\"]].merge(\n",
    "                                    ensembl_to_symbol,\n",
    "                                    how = \"left\",\n",
    "                                    left_on = \"target\",\n",
    "                                    right_on = \"ensembl_id\",\n",
    "                                   )[\"gene_symbol\"]\n",
    "    \n",
    "    tissue_networks[tissue] = pd.DataFrame({\"tf_ensembl\":el[\"tf\"].values,\n",
    "                 \"target_ensembl\":el[\"target\"].values,\n",
    "                 \"tf_name\":tf_symbol.values,\n",
    "                 \"target_name\":target_symbol.values,\n",
    "                \"tf_is_marker\":el[\"tf_is_marker\"].values})\n",
    "    \n",
    "    # Assign edge weight\n",
    "    tissue_networks[tissue]['weight'] = tissue_networks[tissue].merge(interaction_weights[tissue],\n",
    "                                                                        how = \"left\",\n",
    "                                                                        left_on = [\"tf_ensembl\",\"target_ensembl\"],\n",
    "                                                                        right_on = [\"tf\",\"target\"]\n",
    "                                                                     )['weight']"
   ]
  },
  {
   "cell_type": "markdown",
   "metadata": {},
   "source": [
    "Compute recall rate for Random model"
   ]
  },
  {
   "cell_type": "code",
   "execution_count": 10,
   "metadata": {},
   "outputs": [],
   "source": [
    "rate_random = pd.DataFrame(\n",
    "    {\n",
    "        'tissue':[\"Liver\",\"Heart\",\"Spleen\",\"Kidney_Left\",\"Large_Intestine\",\"Lung_Right\"],\n",
    "        'recalled_num':[0,0,0,0,0,0],\n",
    "        'total_num':[0,0,0,0,0,0],\n",
    "        'rate':[0,0,0,0,0,0]\n",
    "    }\n",
    ")\n",
    "\n",
    "for tissue in [\"Liver\",\"Heart\",\"Spleen\",\"Kidney_Left\",\"Large_Intestine\",\"Lung_Right\"]:\n",
    "    tf_list = shap_velo[tissue][\"tf\"].unique()\n",
    "    rates = []\n",
    "    num = []\n",
    "    for i in range(1000):\n",
    "        if tissue != \"Spleen\":\n",
    "            selected = np.random.choice(tf_list, tissue_networks[tissue][\"tf_ensembl\"].unique().shape[0])\n",
    "            num.append(np.intersect1d(selected, tissue_marker_genes[tissue]).shape[0])\n",
    "            rates.append(num[-1]/tissue_marker_genes[tissue].shape[0])\n",
    "        else:\n",
    "            num.append(0)\n",
    "            rates.append(0)\n",
    "    \n",
    "    if tissue != \"Spleen\":\n",
    "        rate_random.loc[rate_random['tissue'] == tissue, 'recalled_num'] = np.mean(num)\n",
    "        rate_random.loc[rate_random['tissue'] == tissue, 'total_num'] = tissue_marker_genes[tissue].shape[0]\n",
    "        rate_random.loc[rate_random['tissue'] == tissue, 'rate'] = np.mean(rates)\n",
    "    else:\n",
    "        rate_random.loc[rate_random['tissue'] == tissue, 'recalled_num'] = np.mean(num)\n",
    "        rate_random.loc[rate_random['tissue'] == tissue, 'total_num'] = 0\n",
    "        rate_random.loc[rate_random['tissue'] == tissue, 'rate'] = np.mean(rates)"
   ]
  },
  {
   "cell_type": "markdown",
   "metadata": {},
   "source": [
    "merge results"
   ]
  },
  {
   "cell_type": "code",
   "execution_count": 11,
   "metadata": {},
   "outputs": [
    {
     "name": "stderr",
     "output_type": "stream",
     "text": [
      "/tmp/ipykernel_56243/4070561403.py:9: DeprecationWarning: `np.int` is a deprecated alias for the builtin `int`. To silence this warning, use `int` by itself. Doing this will not modify any behavior and is safe. When replacing `np.int`, you may wish to use e.g. `np.int64` or `np.int32` to specify the precision. If you wish to review your current use, check the release note link for additional information.\n",
      "Deprecated in NumPy 1.20; for more details and guidance: https://numpy.org/devdocs/release/1.20.0-notes.html#deprecations\n",
      "  col1[i] = np.int(val)\n"
     ]
    }
   ],
   "source": [
    "rate_velo[\"method\"] = \"MultiRank(RPKM + TFA -> velo)\"\n",
    "rate_random[\"method\"] = \"Random\"\n",
    "res = pd.concat([rate_velo,rate_random])\n",
    "\n",
    "col1 = res[\"recalled_num\"].tolist()\n",
    "col2 = res[\"total_num\"].tolist()\n",
    "for i,val in enumerate(col1):\n",
    "    if val % 1 == 0:\n",
    "        col1[i] = np.int(val)\n",
    "    if val % 1 != 0:\n",
    "        col1[i] = np.round(val,2) # Round recalled number\n",
    "res[\"bar_label\"] = [str(c1) + \"/\" + str(c2) for c1,c2 in zip(col1, col2)]"
   ]
  },
  {
   "cell_type": "markdown",
   "metadata": {},
   "source": [
    "replace tissue labels"
   ]
  },
  {
   "cell_type": "code",
   "execution_count": 12,
   "metadata": {},
   "outputs": [
    {
     "name": "stderr",
     "output_type": "stream",
     "text": [
      "/jet/home/qsong/.local/lib/python3.8/site-packages/pandas/core/indexing.py:1732: SettingWithCopyWarning: \n",
      "A value is trying to be set on a copy of a slice from a DataFrame\n",
      "\n",
      "See the caveats in the documentation: https://pandas.pydata.org/pandas-docs/stable/user_guide/indexing.html#returning-a-view-versus-a-copy\n",
      "  self._setitem_single_block(indexer, value, name)\n"
     ]
    }
   ],
   "source": [
    "res[\"tissue\"].loc[res[\"tissue\"] == \"Kidney_Left\"] = \"Left kidney\"\n",
    "res[\"tissue\"].loc[res[\"tissue\"] == \"Lung_Right\"] = \"Right lung\"\n",
    "res[\"tissue\"].loc[res[\"tissue\"] == \"Large_Intestine\"] = \"Large intestine\"\n",
    "\n",
    "# Remove spleen results\n",
    "res = res.loc[res[\"tissue\"] != \"Spleen\",]"
   ]
  },
  {
   "cell_type": "markdown",
   "metadata": {},
   "source": [
    "Compute the pvalues for the recall results"
   ]
  },
  {
   "cell_type": "markdown",
   "metadata": {},
   "source": [
    "For each tissue\n",
    "\n",
    "- k: the overlapping TF marker genes\n",
    "- K: number of recoverable TF marker genes in each tissue\n",
    "- n: number of TFs in the predicted network\n",
    "- N: number of TFs in the input TF RPKM matrix\n",
    "\n",
    "\n",
    "$P(X=k) = \\frac{{K \\choose k}{N-K \\choose n-k}}{N \\choose n}$\n",
    "\n",
    "$P(X >= k) = \\sum_{k}^{min(n,K)} \\frac{{K \\choose k}{N-K \\choose n-k}}{N \\choose n}$ \n",
    "\n",
    "pvalue = hypergeom.sf(k-1, N, K, n)"
   ]
  },
  {
   "cell_type": "code",
   "execution_count": 13,
   "metadata": {},
   "outputs": [],
   "source": [
    "from scipy.stats import hypergeom\n",
    "pvalues = []\n",
    "for idx,row in res.iterrows():\n",
    "    tissue = row[\"tissue\"]\n",
    "    k = row[\"recalled_num\"]\n",
    "    K = row[\"total_num\"]\n",
    "    n = tissue_networks['Liver'][\"tf_ensembl\"].unique().shape[0]\n",
    "    N = shap_velo['Liver']['tf'].unique().shape[0]\n",
    "    pvalues.append(hypergeom.sf(k-1, N, K, n))"
   ]
  },
  {
   "cell_type": "markdown",
   "metadata": {},
   "source": [
    "compute pvalue for the difference of recall rates for MTL vs random"
   ]
  },
  {
   "cell_type": "code",
   "execution_count": 14,
   "metadata": {},
   "outputs": [
    {
     "name": "stdout",
     "output_type": "stream",
     "text": [
      "p-value = 0.009023438818080326\n"
     ]
    }
   ],
   "source": [
    "from scipy.stats import ranksums\n",
    "\n",
    "grp1 = res.loc[res[\"method\"] == \"MultiRank(RPKM + TFA -> velo)\",][\"rate\"]\n",
    "grp2 = res.loc[res[\"method\"] == \"Random\",][\"rate\"]\n",
    "p = ranksums(grp1, grp2).pvalue\n",
    "print(\"p-value = {}\".format(p))"
   ]
  },
  {
   "cell_type": "markdown",
   "metadata": {},
   "source": [
    "Plot TF validation results"
   ]
  },
  {
   "cell_type": "code",
   "execution_count": 79,
   "metadata": {},
   "outputs": [
    {
     "data": {
      "image/png": "[encoded data removed]",
      "text/plain": [
       "<Figure size 720x360 with 1 Axes>"
      ]
     },
     "metadata": {
      "needs_background": "light"
     },
     "output_type": "display_data"
    }
   ],
   "source": [
    "from matplotlib import pyplot as plt\n",
    "import seaborn as sns\n",
    "import matplotlib.ticker as mtick\n",
    "\n",
    "# Plot data\n",
    "fig,axs = plt.subplots(nrows = 1, ncols = 1, figsize = (10,5))\n",
    "bp = sns.barplot(x=\"tissue\",\n",
    "                 y=\"rate\",\n",
    "                 hue = \"method\",\n",
    "                 palette = {\"MultiRank(RPKM + TFA -> velo)\":\"skyblue\",\n",
    "                            \"Random\":\"coral\"},\n",
    "                 data = res,\n",
    "                 capsize = 0.8,\n",
    "                 ax = axs\n",
    "                )\n",
    "axs.yaxis.set_major_formatter(mtick.PercentFormatter(1.0)) \n",
    "\n",
    "for container,method in zip(bp.containers,res[\"method\"].unique()):\n",
    "    bp.bar_label(container, labels = res.loc[res[\"method\"] == method,][\"bar_label\"].values, fontsize = 15)\n",
    "    \n",
    "axs.tick_params(axis = \"both\", labelsize = 15)\n",
    "axs.set_xlabel(\"Tissue\",{\"fontsize\":18})\n",
    "axs.set_ylabel(\"Recall percentage\",{\"fontsize\":18})\n",
    "axs.set_title(\"\", {\"fontsize\":15})\n",
    "axs.set_yticks(ticks = [0,0.2,0.4,0.6,0.8])\n",
    "axs.set_ylim((0,0.8))\n",
    "axs.legend(fontsize = 15)\n",
    "fig.show()"
   ]
  },
  {
   "cell_type": "markdown",
   "metadata": {},
   "source": [
    "save tissue specific networks"
   ]
  },
  {
   "cell_type": "code",
   "execution_count": 23,
   "metadata": {},
   "outputs": [],
   "source": [
    "for tissue,net in tissue_networks.items():\n",
    "    net = net.sort_values(by = \"tf_ensembl\")\n",
    "    net.to_csv(\"/results/network/network-{}.csv\".format(tissue))"
   ]
  },
  {
   "cell_type": "markdown",
   "metadata": {},
   "source": [
    "save tissue specific validated markers"
   ]
  },
  {
   "cell_type": "code",
   "execution_count": 60,
   "metadata": {},
   "outputs": [],
   "source": [
    "import os\n",
    "for tissue,net in tissue_networks.items():\n",
    "    if tissue != \"Spleen\":\n",
    "        file = \"network/marker_table.xlsx\"\n",
    "        validate_marker_table = net.loc[net[\"tf_is_marker\"],[\"tf_ensembl\",\"tf_name\"]].drop_duplicates()\n",
    "        validate_marker_table = validate_marker_table.merge(tissue_marker_genes[tissue],\n",
    "                                                            how = \"left\",\n",
    "                                                            left_on = \"tf_ensembl\",\n",
    "                                                            right_on = \"gene\"\n",
    "                                                           ).loc[:, [\"tf_ensembl\",\"tf_name\",\"PMID\"]]\n",
    "    else:\n",
    "        validate_marker_table = pd.DataFrame({\"tf_ensembl\":[],\"tf_name\":[],\"PMID\":[]})\n",
    "                                             \n",
    "    # write to excel file\n",
    "    if os.path.exists(file):\n",
    "        with pd.ExcelWriter(file, mode = \"a\") as writer:\n",
    "            validate_marker_table.to_excel(writer, sheet_name = tissue)\n",
    "    else:\n",
    "        with pd.ExcelWriter(file, mode = \"w\") as writer:\n",
    "            validate_marker_table.to_excel(writer, sheet_name = tissue)"
   ]
  }
 ],
 "metadata": {
  "kernelspec": {
   "display_name": "NGC TensorFlow",
   "language": "python",
   "name": "tensorflow"
  },
  "language_info": {
   "codemirror_mode": {
    "name": "ipython",
    "version": 3
   },
   "file_extension": ".py",
   "mimetype": "text/x-python",
   "name": "python",
   "nbconvert_exporter": "python",
   "pygments_lexer": "ipython3",
   "version": "3.8.10"
  }
 },
 "nbformat": 4,
 "nbformat_minor": 4
}
