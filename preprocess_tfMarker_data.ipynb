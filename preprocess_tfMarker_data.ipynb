{
 "cells": [
  {
   "cell_type": "code",
   "execution_count": 1,
   "metadata": {},
   "outputs": [],
   "source": [
    "import pandas as pd\n",
    "import numpy as np"
   ]
  },
  {
   "cell_type": "markdown",
   "metadata": {},
   "source": [
    "read ensembl to symbol mapping"
   ]
  },
  {
   "cell_type": "code",
   "execution_count": 2,
   "metadata": {},
   "outputs": [],
   "source": [
    "ensembl_to_symbol = pd.read_csv(\"data/raw/id_mapping/ensembl_to_symbol.csv\",index_col = 0)\n",
    "ensembl_to_symbol = ensembl_to_symbol.loc[~ensembl_to_symbol[\"ensembl_id\"].duplicated(),:]\n",
    "ensembl_to_symbol.index = ensembl_to_symbol[\"ensembl_id\"]"
   ]
  },
  {
   "cell_type": "markdown",
   "metadata": {},
   "source": [
    "read raw data dowonloaded from TFMarker database: http://bio.liclab.net/TF-Marker/"
   ]
  },
  {
   "cell_type": "code",
   "execution_count": 3,
   "metadata": {},
   "outputs": [],
   "source": [
    "table = pd.read_csv(\"data/raw/tfmarker/tfMarker.txt\", sep = \"\\t\")"
   ]
  },
  {
   "cell_type": "markdown",
   "metadata": {},
   "source": [
    "Convert to ensembl IDs"
   ]
  },
  {
   "cell_type": "code",
   "execution_count": 4,
   "metadata": {},
   "outputs": [],
   "source": [
    "new_tab = []\n",
    "for idx,row in table.iterrows():\n",
    "    source = row[\"Gene Name\"]\n",
    "    if row[\"Interacting Gene\"] is not np.nan:\n",
    "        targets = row[\"Interacting Gene\"].split(\";\")\n",
    "    else:\n",
    "        targets = [\"NA\"]\n",
    "    tissue = row[\"Tissue Type\"]\n",
    "    exp_met = row[\"Experimental Method\"]\n",
    "    pmid = row[\"PMID\"]\n",
    "    for tar in targets:\n",
    "        new_tab.append([source, tar, tissue, exp_met,pmid])\n",
    "new_tab = pd.DataFrame(new_tab, columns = [\"source\",\"target\",\"tissue\",\"experiment\",\"PMID\"])"
   ]
  },
  {
   "cell_type": "code",
   "execution_count": 5,
   "metadata": {},
   "outputs": [],
   "source": [
    "source_ensembl = new_tab.merge(ensembl_to_symbol,\n",
    "                              how = 'left',\n",
    "                              left_on = 'source',\n",
    "                             right_on = 'gene_symbol')[\"ensembl_id\"]\n",
    "target_ensembl = new_tab.merge(ensembl_to_symbol,\n",
    "                              how = 'left',\n",
    "                              left_on = 'target',\n",
    "                             right_on = 'gene_symbol')[\"ensembl_id\"]\n",
    "\n",
    "# Use the genes that can be mapped to ensmebl ids\n",
    "select = (~pd.isna(source_ensembl)) & (~pd.isna(target_ensembl))\n",
    "\n",
    "new_tab[\"source_ensembl\"] = source_ensembl\n",
    "new_tab[\"target_ensembl\"] = target_ensembl\n",
    "new_tab = new_tab.loc[select,]"
   ]
  },
  {
   "cell_type": "code",
   "execution_count": 7,
   "metadata": {},
   "outputs": [],
   "source": [
    "new_tab.to_csv(\"data/processed/tfmarker/tfMarker_ensmebl.csv\", index = None)"
   ]
  }
 ],
 "metadata": {
  "kernelspec": {
   "display_name": "Python 3",
   "language": "python",
   "name": "python3"
  },
  "language_info": {
   "codemirror_mode": {
    "name": "ipython",
    "version": 3
   },
   "file_extension": ".py",
   "mimetype": "text/x-python",
   "name": "python",
   "nbconvert_exporter": "python",
   "pygments_lexer": "ipython3",
   "version": "3.8.5"
  }
 },
 "nbformat": 4,
 "nbformat_minor": 4
}
