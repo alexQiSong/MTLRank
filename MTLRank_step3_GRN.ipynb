{
 "cells": [
  {
   "cell_type": "markdown",
   "metadata": {},
   "source": [
    "### Read files"
   ]
  },
  {
   "cell_type": "markdown",
   "metadata": {},
   "source": [
    "Read SHAP scores for TFs"
   ]
  },
  {
   "cell_type": "code",
   "execution_count": 2,
   "metadata": {},
   "outputs": [],
   "source": [
    "import pandas as pd\n",
    "import numpy as np\n",
    "\n",
    "# Specify tissue name here\n",
    "tissue = \"Liver\"\n",
    "\n",
    "# read ranking results (SHAP scores)\n",
    "shap = pd.read_csv(f\"results/ranking/shap-val-{tissue}.csv\")"
   ]
  },
  {
   "cell_type": "markdown",
   "metadata": {},
   "source": [
    "Read the list of all tf ensembl ids"
   ]
  },
  {
   "cell_type": "code",
   "execution_count": 3,
   "metadata": {},
   "outputs": [],
   "source": [
    "tf_universe = pd.read_csv(\"data/tf_list/tf_list.csv\")[\"Ensembl ID\"].values"
   ]
  },
  {
   "cell_type": "markdown",
   "metadata": {},
   "source": [
    "Read ensmebl to gene name mapping"
   ]
  },
  {
   "cell_type": "code",
   "execution_count": 4,
   "metadata": {},
   "outputs": [],
   "source": [
    "ensembl_to_symbol = pd.read_csv(\"data/ensembl_to_symbol.csv\", index_col = 0)\n",
    "ensembl_to_symbol = ensembl_to_symbol.loc[~ensembl_to_symbol[\"ensembl_id\"].duplicated(),:]"
   ]
  },
  {
   "cell_type": "markdown",
   "metadata": {},
   "source": [
    "### Generate GRN for the Tissue\n",
    "parameters to be specified:\n",
    "- `top_tfs`, the number of top ranked TFs for each target. These will be used to look for the consensus of top ranked ranked TFs among different replicates"
   ]
  },
  {
   "cell_type": "code",
   "execution_count": 19,
   "metadata": {},
   "outputs": [],
   "source": [
    "top_tfs = 50"
   ]
  },
  {
   "cell_type": "code",
   "execution_count": 20,
   "metadata": {},
   "outputs": [],
   "source": [
    "from functools import reduce\n",
    "reps = shap[\"rep\"].unique()\n",
    "GRN = []\n",
    "for target,df in shap.groupby(\"gene_ensembl\"):\n",
    "    \n",
    "    #Get common top ranked tfs among different replicates of the current target\n",
    "    tfs = reduce(np.intersect1d, [df.loc[df[\"rep\"] == rep,].iloc[:top_tfs,][\"tf_ensembl\"] for rep in reps])\n",
    "    GRN.append(pd.DataFrame({'target':target, 'tf':tfs}))\n",
    "GRN = pd.concat(GRN)"
   ]
  },
  {
   "cell_type": "markdown",
   "metadata": {},
   "source": [
    "### Save GRN"
   ]
  },
  {
   "cell_type": "code",
   "execution_count": 21,
   "metadata": {},
   "outputs": [],
   "source": [
    "import os\n",
    "if not os.path.exists(\"results/GRN\"):\n",
    "    os.mkdir(\"results/GRN\")\n",
    "GRN.to_csv(\"results/GRN/GRN.csv\")"
   ]
  }
 ],
 "metadata": {
  "kernelspec": {
   "display_name": "tensorflow27",
   "language": "python",
   "name": "tensorflow27"
  },
  "language_info": {
   "codemirror_mode": {
    "name": "ipython",
    "version": 3
   },
   "file_extension": ".py",
   "mimetype": "text/x-python",
   "name": "python",
   "nbconvert_exporter": "python",
   "pygments_lexer": "ipython3",
   "version": "3.8.10"
  }
 },
 "nbformat": 4,
 "nbformat_minor": 4
}
